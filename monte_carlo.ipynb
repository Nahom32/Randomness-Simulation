{
  "nbformat": 4,
  "nbformat_minor": 0,
  "metadata": {
    "colab": {
      "provenance": [],
      "authorship_tag": "ABX9TyOys4KTaP6Ep5G1SiDizK83",
      "include_colab_link": true
    },
    "kernelspec": {
      "name": "python3",
      "display_name": "Python 3"
    },
    "language_info": {
      "name": "python"
    }
  },
  "cells": [
    {
      "cell_type": "markdown",
      "metadata": {
        "id": "view-in-github",
        "colab_type": "text"
      },
      "source": [
        "<a href=\"https://colab.research.google.com/github/Nahom32/Randomness-Simulation/blob/main/monte_carlo.ipynb\" target=\"_parent\"><img src=\"https://colab.research.google.com/assets/colab-badge.svg\" alt=\"Open In Colab\"/></a>"
      ]
    },
    {
      "cell_type": "markdown",
      "source": [
        "\n",
        "##Imports\n",
        "---\n",
        "\n"
      ],
      "metadata": {
        "id": "1_nYFVsWzO1y"
      }
    },
    {
      "cell_type": "code",
      "execution_count": 1,
      "metadata": {
        "id": "S5bZvFN0xbwy"
      },
      "outputs": [],
      "source": [
        "import numpy"
      ]
    },
    {
      "cell_type": "code",
      "source": [
        "def estimate_pi(N):\n",
        "  '''\n",
        "  This function estimates pi from a number of trials using the monte-carlo approaches\n",
        "  parameters:\n",
        "  N: number of trials\n",
        "  returns:\n",
        "  pi: estimate of pi\n",
        "  '''\n",
        "  points_inside = 0\n",
        "  for i in range(N):\n",
        "    rand_x = numpy.random.uniform(-1,1)\n",
        "    rand_y = numpy.random.uniform(-1,1)\n",
        "    radius = rand_x**2 + rand_y**2\n",
        "    if radius <= 1:\n",
        "      points_inside += 1\n",
        "  return 4*points_inside/N"
      ],
      "metadata": {
        "id": "f6H9fzTQxh6x"
      },
      "execution_count": null,
      "outputs": []
    }
  ]
}
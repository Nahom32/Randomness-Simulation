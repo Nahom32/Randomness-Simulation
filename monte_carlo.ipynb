{
  "nbformat": 4,
  "nbformat_minor": 0,
  "metadata": {
    "colab": {
      "provenance": [],
      "authorship_tag": "ABX9TyPxICKPn9U+b88jhR8BRW+H",
      "include_colab_link": true
    },
    "kernelspec": {
      "name": "python3",
      "display_name": "Python 3"
    },
    "language_info": {
      "name": "python"
    }
  },
  "cells": [
    {
      "cell_type": "markdown",
      "metadata": {
        "id": "view-in-github",
        "colab_type": "text"
      },
      "source": [
        "<a href=\"https://colab.research.google.com/github/Nahom32/Randomness-Simulation/blob/main/monte_carlo.ipynb\" target=\"_parent\"><img src=\"https://colab.research.google.com/assets/colab-badge.svg\" alt=\"Open In Colab\"/></a>"
      ]
    },
    {
      "cell_type": "markdown",
      "source": [
        "\n",
        "##Imports\n",
        "---\n",
        "\n"
      ],
      "metadata": {
        "id": "1_nYFVsWzO1y"
      }
    },
    {
      "cell_type": "code",
      "execution_count": 1,
      "metadata": {
        "id": "S5bZvFN0xbwy"
      },
      "outputs": [],
      "source": [
        "import numpy"
      ]
    },
    {
      "cell_type": "code",
      "source": [
        "def estimate_pi(N):\n",
        "  '''\n",
        "  This function estimates pi from a number of trials using the monte-carlo approaches\n",
        "  parameters:\n",
        "  N: number of trials\n",
        "  returns:\n",
        "  pi: estimate of pi\n",
        "  '''\n",
        "  points_inside = 0\n",
        "  for i in range(N):\n",
        "    rand_x = numpy.random.uniform(-1,1)\n",
        "    rand_y = numpy.random.uniform(-1,1)\n",
        "    radius = rand_x**2 + rand_y**2\n",
        "    if radius <= 1:\n",
        "      points_inside += 1\n",
        "  return 4*points_inside/N"
      ],
      "metadata": {
        "id": "f6H9fzTQxh6x"
      },
      "execution_count": 2,
      "outputs": []
    },
    {
      "cell_type": "code",
      "source": [
        "print(estimate_pi(100))\n",
        "print(estimate_pi(1000))"
      ],
      "metadata": {
        "colab": {
          "base_uri": "https://localhost:8080/"
        },
        "id": "WjiHnVWsz1kI",
        "outputId": "e25530b7-eb45-4e34-b30a-910ebc89975d"
      },
      "execution_count": 12,
      "outputs": [
        {
          "output_type": "stream",
          "name": "stdout",
          "text": [
            "3.0\n",
            "3.092\n"
          ]
        }
      ]
    },
    {
      "cell_type": "code",
      "source": [
        "import matplotlib.pyplot as plt\n",
        "def plot_pi_convergence(arr_of_points):\n",
        "  \"\"\"\n",
        "  This function plots the convergence of pi estimate\n",
        "  parameters:\n",
        "  arr_of_points: array of points\n",
        "  \"\"\"\n",
        "  values = list(map(lambda x: estimate_pi(x), arr_of_points))\n",
        "  plt.figure(figsize=(12, 6))\n",
        "  plt.subplot(1, 2, 1)\n",
        "  plt.plot(arr_of_points, values, marker='o', label='Estimated π')\n",
        "  plt.axhline(y=numpy.pi, color='r', linestyle='--', label='Actual π')\n",
        "  plt.xscale('log')\n",
        "  plt.xlabel('Number of Points (log scale)')\n",
        "  plt.ylabel('Estimated π')\n",
        "  plt.title('Convergence of π Estimate')\n",
        "  plt.legend()\n",
        "\n"
      ],
      "metadata": {
        "colab": {
          "base_uri": "https://localhost:8080/"
        },
        "id": "pzAPX2Rb02y6",
        "outputId": "97eacc52-64fb-4bfb-efbe-9e70f47752fe"
      },
      "execution_count": 10,
      "outputs": [
        {
          "output_type": "execute_result",
          "data": {
            "text/plain": [
              "[3.2, 3.04, 3.048]"
            ]
          },
          "metadata": {},
          "execution_count": 10
        }
      ]
    }
  ]
}